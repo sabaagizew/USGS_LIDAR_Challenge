{
  "nbformat": 4,
  "nbformat_minor": 0,
  "metadata": {
    "colab": {
      "name": "USGS LIDAR Challenge.ipynb",
      "provenance": [],
      "authorship_tag": "ABX9TyNUCL9m4+a/+sDBk76ad2Qf",
      "include_colab_link": true
    },
    "kernelspec": {
      "name": "python3",
      "display_name": "Python 3"
    },
    "language_info": {
      "name": "python"
    }
  },
  "cells": [
    {
      "cell_type": "markdown",
      "metadata": {
        "id": "view-in-github",
        "colab_type": "text"
      },
      "source": [
        "<a href=\"https://colab.research.google.com/github/sabaagizew/USGS_LIDAR_Challenge/blob/main/USGS_LIDAR_Challenge.ipynb\" target=\"_parent\"><img src=\"https://colab.research.google.com/assets/colab-badge.svg\" alt=\"Open In Colab\"/></a>"
      ]
    },
    {
      "cell_type": "code",
      "metadata": {
        "id": "Oz58JnUaFfZU"
      },
      "source": [
        "import pdal\n",
        "import json\n",
        "import laspy\n",
        "import geopandas as gpd\n",
        "import numpy as np\n",
        "from shapely.geometry import box, Point, Polygon"
      ],
      "execution_count": null,
      "outputs": []
    },
    {
      "cell_type": "code",
      "metadata": {
        "id": "_HYOwaYdFoBb"
      },
      "source": [
        "class FetchAndLoad():\n",
        "    \n",
        "    def __init__(self, polygon:Polygon, epsg:int=4326, state='IA_FullState'):\n",
        "        self.polygon = polygon\n",
        "\n",
        "        self.state = state\n",
        "        self.epsg = epsg\n",
        "        self.bounds = None\n",
        "        self.crs_polygon = None\n",
        "        \n",
        "        self.pipe_path = './pipeline.json'\n",
        "        self.las_path = self.state+'.las'\n",
        "        self.tif_path = self.state+'.tif'\n",
        "        self.api_path = \"https://s3-us-west-2.amazonaws.com/usgs-lidar-public/\"+self.state+\"/ept.json\"\n",
        "        \n",
        "        self.pipeline = None\n",
        "        \n",
        "        self.las_file = None\n",
        "        self.points = None\n",
        "        self.elevation = None\n",
        "        self.geo_df = None\n",
        "        \n",
        "        \n",
        "    def read_json(self):\n",
        "  \n",
        "      try:\n",
        "        file_path = self.pipe_path\n",
        "        print(\"File Path : \", file_path)\n",
        "        with open(file_path, 'r') as json_file:\n",
        "          data = json.loads(json_file.read())\n",
        "        return data\n",
        "\n",
        "      except:\n",
        "        print('File Not found')\n",
        "        return None\n",
        "    \n",
        "    def get_bounds_and_ploygon(self):\n",
        "      \n",
        "        polygon_df = gpd.GeoDataFrame([self.polygon], columns=['geometry'])\n",
        "        \n",
        "        polygon_df.set_crs(epsg=self.epsg, inplace=True)\n",
        "        polygon_df['geometry'] = polygon_df['geometry'].to_crs(\n",
        "            epsg=3857)\n",
        "        minx, miny, maxx, maxy = polygon_df['geometry'][0].bounds\n",
        "        \n",
        "        polygon_input = 'POLYGON(('\n",
        "\n",
        "        xcord, ycord = polygon_df['geometry'][0].exterior.coords.xy\n",
        "        for x, y in zip(list(xcord), list(ycord)):\n",
        "            polygon_input += f'{x} {y}, '\n",
        "        polygon_input = polygon_input[:-2]\n",
        "        polygon_input += '))'\n",
        "        \n",
        "        \n",
        "        self.bounds = f\"({[minx, maxx]},{[miny,maxy]})\"\n",
        "        self.crs_polygon = polygon_input\n",
        "        \n",
        "        \n",
        "    def prepare_pipe(self):\n",
        "        self.get_bounds_and_ploygon()\n",
        "        data = self.read_json()\n",
        "        data['pipeline'][0]['bounds'] = self.bounds\n",
        "        data['pipeline'][0]['filename'] = self.api_path\n",
        "        \n",
        "        data['pipeline'][1]['polygon'] = self.crs_polygon\n",
        "        \n",
        "        data['pipeline'][4]['out_srs'] = f'EPSG:{self.epsg}'\n",
        "\n",
        "        data['pipeline'][7]['filename'] = self.las_path\n",
        "        data['pipeline'][8]['filename'] = self.tif_path\n",
        "\n",
        "\n",
        "        print(\"data LInk : \" , data['pipeline'][0]['filename'])\n",
        "        self.pipeline = data\n",
        "        \n",
        "    \n",
        "    def run_pipe(self):\n",
        "        \n",
        "        print(\"Run pipe ...\")\n",
        "        result = self.prepare_pipe()\n",
        "        pdal_pipe = pdal.Pipeline(json.dumps(self.pipeline))\n",
        "        pdal_result = pdal_pipe.execute()\n",
        "        print(\"Fetching Completed!\")\n",
        "        \n",
        "        \n",
        "    def read_laz(self):\n",
        "        try:\n",
        "            print(\"Reading Las File from :\", self.las_path)\n",
        "            las = laspy.read(self.las_path)\n",
        "            self.las_file = las\n",
        "            return las\n",
        "        \n",
        "        except FileNotFoundError:\n",
        "            print(\"Log: File Not found\")\n",
        "            print(\"Please use the function run_pipe before this funciton\")\n",
        "            \n",
        "    \n",
        "    def generate_points_elevation(self):\n",
        "        print(\"Generating Points from las File ...\")\n",
        "        points = [Point(x, y) for x,y in zip(self.las_file.x, self.las_file.y)]\n",
        "        elevation = np.array(self.las_file.z)\n",
        "        \n",
        "        self.points, self.elevation = points, elevation\n",
        "        print(\"Finished Generating Points!\")\n",
        "        \n",
        "        return points, elevation"
      ],
      "execution_count": null,
      "outputs": []
    },
    {
      "cell_type": "code",
      "metadata": {
        "id": "oJOif7j-FwKq"
      },
      "source": [
        "#inital inputs\n",
        "MINX, MINY, MAXX, MAXY = [-93.756155, 41.918015, -93.747334, 41.921429]\n",
        "\n",
        "# MINX, MINY, MAXX, MAXY = [-93.756155, 41.918015, -93.756055, 41.918115]\n",
        "\n",
        "polygon = Polygon(((MINX, MINY), (MINX, MAXY),\n",
        "                   (MAXX, MAXY), (MAXX, MINY), (MINX, MINY)))\n",
        "\n",
        "\n",
        "\n",
        "check = FetchAndLoad(polygon)\n",
        "check.run_pipe()"
      ],
      "execution_count": null,
      "outputs": []
    },
    {
      "cell_type": "code",
      "metadata": {
        "id": "axec5OA3F4TD"
      },
      "source": [
        "#Generating Geopandas DF from las file\n",
        "check.create_geopandasdf()\n",
        "new_result =  check.get_geopandas_df()"
      ],
      "execution_count": null,
      "outputs": []
    },
    {
      "cell_type": "code",
      "metadata": {
        "id": "_jH13dpDF89p"
      },
      "source": [
        "new_result.head()"
      ],
      "execution_count": null,
      "outputs": []
    },
    {
      "cell_type": "code",
      "metadata": {
        "id": "6XsEYTRqGLAT"
      },
      "source": [
        "## Todo, Add Year and return the Data frame.\n",
        "\n",
        "## Save the data frame if possible.\n",
        "import matplotlib.pyplot as plt\n",
        "\n",
        "\n",
        "fig, ax = plt.subplots(1, 1, figsize=(12, 10))\n",
        "\n",
        "new_result.plot(column='elevation', ax=ax, legend=True)\n",
        "plt.show()"
      ],
      "execution_count": null,
      "outputs": []
    },
    {
      "cell_type": "code",
      "metadata": {
        "id": "z8rG76DaGM0J"
      },
      "source": [
        "import numpy as np\n",
        "import laspy as lp\n",
        "\n",
        "point_cloud=lp.read(\"IA_FullState.las\")"
      ],
      "execution_count": null,
      "outputs": []
    },
    {
      "cell_type": "code",
      "metadata": {
        "id": "f3qXu44YGnFr"
      },
      "source": [
        "points = np.vstack((point_cloud.x, point_cloud.y, point_cloud.z)).transpose()\n",
        "colors = np.vstack((point_cloud.red, point_cloud.green, point_cloud.blue)).transpose()"
      ],
      "execution_count": null,
      "outputs": []
    },
    {
      "cell_type": "code",
      "metadata": {
        "id": "H_th4tyAGuZx"
      },
      "source": [
        "factor=160\n",
        "decimated_points_random = points[::factor]"
      ],
      "execution_count": null,
      "outputs": []
    },
    {
      "cell_type": "code",
      "metadata": {
        "id": "11lOm5wTGwOB"
      },
      "source": [
        "voxel_size=6\n",
        "nb_vox=np.ceil((np.max(points, axis=0) - np.min(points, axis=0))/voxel_size)"
      ],
      "execution_count": null,
      "outputs": []
    },
    {
      "cell_type": "code",
      "metadata": {
        "id": "E_GIlkMCG18L"
      },
      "source": [
        "non_empty_voxel_keys, inverse, nb_pts_per_voxel = np.unique(((points - np.min(points, axis=0)) // voxel_size).astype(int), axis=0, return_inverse=True, return_counts=True)\n",
        "idx_pts_vox_sorted=np.argsort(inverse)"
      ],
      "execution_count": null,
      "outputs": []
    },
    {
      "cell_type": "code",
      "metadata": {
        "id": "4IYA5ZqRG5qh"
      },
      "source": [
        "voxel_grid={}\n",
        "grid_barycenter,grid_candidate_center=[],[]\n",
        "last_seen=0"
      ],
      "execution_count": null,
      "outputs": []
    },
    {
      "cell_type": "code",
      "metadata": {
        "id": "B4Qyf2rNG-SB"
      },
      "source": [
        "for idx,vox in enumerate(non_empty_voxel_keys):\n",
        "    voxel_grid[tuple(vox)]= points[idx_pts_vox_sorted[\n",
        "    last_seen:last_seen+nb_pts_per_voxel[idx]]]\n",
        "    grid_barycenter.append(np.mean(voxel_grid[tuple(vox)],axis=0))\n",
        "    grid_candidate_center.append(\n",
        "       voxel_grid[tuple(vox)][np.linalg.norm(voxel_grid[tuple(vox)] -\n",
        "       np.mean(voxel_grid[tuple(vox)],axis=0),axis=1).argmin()])\n",
        "    last_seen+=nb_pts_per_voxel[idx]"
      ],
      "execution_count": null,
      "outputs": []
    },
    {
      "cell_type": "code",
      "metadata": {
        "id": "bloA_UTfHCKy"
      },
      "source": [
        "import matplotlib.pyplot as plt\n",
        "from mpl_toolkits import mplot3d\n",
        "decimated_colors = colors[::factor]\n",
        "ax = plt.axes(projection='3d')\n",
        "ax.scatter(decimated_points_random[:,0], decimated_points_random[:,1], decimated_points_random[:,2], c = decimated_colors/65535, s=0.01)\n",
        "plt.show()"
      ],
      "execution_count": null,
      "outputs": []
    }
  ]
}